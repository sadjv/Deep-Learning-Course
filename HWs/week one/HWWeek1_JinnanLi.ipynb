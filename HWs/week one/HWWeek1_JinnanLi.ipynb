{
 "cells": [
  {
   "cell_type": "markdown",
   "metadata": {},
   "source": [
    "# Week 1 Programming Assignment \n",
    "\n",
    "Remark: \n",
    "\n",
    "(1) There are 9 problems, among which 7 problems are for 10 points whlie the other 2 problems are optional. Although the optional problems will not be counted, you are suggested to finish them as possible as you can.\n",
    "\n",
    "(2) Please upload your solutions of this assignment to Canvas with a file named \"Programming_Assignment_1 _yourname.ipynb\" before 11:59pm May 23."
   ]
  },
  {
   "cell_type": "markdown",
   "metadata": {
    "colab_type": "text",
    "id": "l2ENBj8Nz3kg"
   },
   "source": [
    "================================================================================================================="
   ]
  },
  {
   "cell_type": "markdown",
   "metadata": {
    "colab_type": "text",
    "id": "t8Op_NP5z3kf"
   },
   "source": [
    "### **Problem 1 (1 pt).** Plot the curve of function \n",
    "### $$f(x) = x^3 - x,~~ x \\in[-1,1].$$"
   ]
  },
  {
   "cell_type": "code",
   "execution_count": 2,
   "metadata": {},
   "outputs": [
    {
     "data": {
      "text/plain": [
       "<matplotlib.legend.Legend at 0x121340310>"
      ]
     },
     "execution_count": 2,
     "metadata": {},
     "output_type": "execute_result"
    },
    {
     "data": {
      "image/png": "[encoded data removed]",
      "text/plain": [
       "<Figure size 432x288 with 1 Axes>"
      ]
     },
     "metadata": {
      "needs_background": "light"
     },
     "output_type": "display_data"
    }
   ],
   "source": [
    "import torch\n",
    "import numpy as np\n",
    "import matplotlib.pyplot as plt\n",
    "\n",
    "def f(x):\n",
    "    return x**3-x\n",
    "\n",
    "x=torch.linspace(-1, 1, 100)\n",
    "\n",
    "plt.plot(x, f(x), '*--r', label='Function $f(x)=x^3-x$') \n",
    "\n",
    "plt.legend()"
   ]
  },
  {
   "cell_type": "markdown",
   "metadata": {
    "colab_type": "text",
    "id": "l2ENBj8Nz3kg"
   },
   "source": [
    "================================================================================================================="
   ]
  },
  {
   "cell_type": "markdown",
   "metadata": {
    "colab_type": "text",
    "id": "kTHHlHSbz3kn"
   },
   "source": [
    "### **Problem 2 (2 pts).** \n",
    "### (1) Find the two roots of the function\n",
    "### $$f(x) = 2x^2 - x - 1,~~ x \\in[-1,2].$$\n",
    "\n",
    "### (2) Plot the curve of the function $f(x)$ defined in (1) and mark all the roots on the curve."
   ]
  },
  {
   "cell_type": "code",
   "execution_count": 4,
   "metadata": {},
   "outputs": [
    {
     "name": "stdout",
     "output_type": "stream",
     "text": [
      "The first root is: [-0.5]\n",
      "The second root is: [1.]\n"
     ]
    },
    {
     "data": {
      "text/plain": [
       "<matplotlib.legend.Legend at 0x1023163110>"
      ]
     },
     "execution_count": 4,
     "metadata": {},
     "output_type": "execute_result"
    },
    {
     "data": {
      "image/png": "[encoded data removed]",
      "text/plain": [
       "<Figure size 432x288 with 1 Axes>"
      ]
     },
     "metadata": {
      "needs_background": "light"
     },
     "output_type": "display_data"
    }
   ],
   "source": [
    "#question (1)\n",
    "from scipy.optimize import fsolve\n",
    "def f(x):\n",
    "    return 2*x**2-x-1\n",
    "\n",
    "x0 = fsolve(f, 0)\n",
    "x1 = fsolve(f, 1)\n",
    "print('The first root is:', x0)\n",
    "print('The second root is:', x1)\n",
    "\n",
    "#question (2)\n",
    "x = np.linspace(-1, 2, 1000)\n",
    "\n",
    "plt.plot(x, f(x),'-', label='function $f(x)=2x^2-x-1$')\n",
    "plt.plot(x0, f(x0), '*',label='root1')\n",
    "plt.plot(x1, f(x1), '*',label='root2')\n",
    "plt.legend()"
   ]
  },
  {
   "cell_type": "markdown",
   "metadata": {
    "colab_type": "text",
    "id": "l_Bz9vz7z3kn"
   },
   "source": [
    "================================================================================================================="
   ]
  },
  {
   "cell_type": "markdown",
   "metadata": {
    "colab_type": "text",
    "id": "cL_XkTgmz3k1"
   },
   "source": [
    "### **Problem 3 (optional)**.  Given $P=\\begin{bmatrix} 1 & 2 \\\\ 3 & 4\\end{bmatrix}$, investigate the two different multiplications $P*P$ and $torch.mm(P,P)$."
   ]
  },
  {
   "cell_type": "markdown",
   "metadata": {
    "colab_type": "text",
    "id": "l_Bz9vz7z3kn"
   },
   "source": [
    "================================================================================================================="
   ]
  },
  {
   "cell_type": "markdown",
   "metadata": {
    "colab_type": "text",
    "id": "QFdILTiHz3k1"
   },
   "source": [
    "### **Problem 4 (1 pt).**  Given \n",
    "### $$A=\\begin{bmatrix} 1 & 2 & 3 \\\\ 4 & 5 & 6 \\\\ 7 & 8 & 9 \\end{bmatrix}, ~~ b=\\begin{bmatrix} 1  \\\\ 2 \\\\ 3\\end{bmatrix}.$$\n",
    "### Solve $A^2 x = b.$"
   ]
  },
  {
   "cell_type": "code",
   "execution_count": 10,
   "metadata": {},
   "outputs": [
    {
     "name": "stdout",
     "output_type": "stream",
     "text": [
      "A is tensor([[1., 2., 3.],\n",
      "        [4., 5., 6.],\n",
      "        [7., 8., 9.]])\n",
      "\n",
      "\n",
      "A^2 is tensor([[ 30.,  36.,  42.],\n",
      "        [ 66.,  81.,  96.],\n",
      "        [102., 126., 150.]])\n",
      "\n",
      "\n",
      "b is tensor([[1.],\n",
      "        [2.],\n",
      "        [3.]])\n",
      "\n",
      "\n",
      "x is tensor([[-0.0010],\n",
      "        [ 0.2241],\n",
      "        [-0.1676]])\n"
     ]
    }
   ],
   "source": [
    "import torch\n",
    "import numpy as np\n",
    "\n",
    "\n",
    "A = torch.tensor([[1,2,3],[4,5,6],[7,8,9]],dtype=torch.float32)\n",
    "print('A is', A)\n",
    "\n",
    "print('\\n') \n",
    "\n",
    "A_sqr=torch.mm(A,A)\n",
    "print('A^2 is', A_sqr)\n",
    "\n",
    "print('\\n') \n",
    "\n",
    "b = torch.tensor([[1],[2],[3]],dtype=torch.float32) \n",
    "print('b is', b)\n",
    "\n",
    "x, LU =torch.solve(b,A_sqr) \n",
    "\n",
    "print('\\n') \n",
    "\n",
    "print('x is', x)\n",
    "\n"
   ]
  },
  {
   "cell_type": "markdown",
   "metadata": {
    "colab_type": "text",
    "id": "qcBjCGE9z3k2"
   },
   "source": [
    "================================================================================================================="
   ]
  },
  {
   "cell_type": "markdown",
   "metadata": {
    "colab_type": "text",
    "id": "RCGBDvQNz3k4"
   },
   "source": [
    "### **Problem 5 (1 pt).**  Given $f(x,y) = x^2+y^2+(xy)^3$, compute $\\frac{\\partial f(x,y)}{\\partial y}$ at $x=1,y=2$."
   ]
  },
  {
   "cell_type": "code",
   "execution_count": 12,
   "metadata": {},
   "outputs": [
    {
     "name": "stdout",
     "output_type": "stream",
     "text": [
      "x requires_grad? False\n",
      "y requires_grad? True\n",
      "z.requires_grad? True\n",
      "(tensor([16.]),)\n"
     ]
    }
   ],
   "source": [
    "# In order to calculate the gradient with respect to a tensor, we should set the requires_grad flag to True.\n",
    "y = torch.tensor([2.0], requires_grad=True)\n",
    "x = torch.tensor([1.0])\n",
    "\n",
    "# By default, requires_grad is set to False if possible.\n",
    "print('x requires_grad?', x.requires_grad)\n",
    "print('y requires_grad?', y.requires_grad)\n",
    "\n",
    "z = x**2+y**2+(x*y)**3\n",
    "print('z.requires_grad?', z.requires_grad)\n",
    "\n",
    "\n",
    "grad = torch.autograd.grad(outputs=z, inputs=y) \n",
    "print(grad)"
   ]
  },
  {
   "cell_type": "markdown",
   "metadata": {
    "colab_type": "text",
    "id": "qcBjCGE9z3k2"
   },
   "source": [
    "================================================================================================================="
   ]
  },
  {
   "cell_type": "markdown",
   "metadata": {
    "colab_type": "text",
    "id": "zDT7DRnn697I"
   },
   "source": [
    "### **Problem 6 (optional).** Define a function to find the minimum of three numbers $a,~b,~c$. Test your code and print the minimum of the three numbers, where $a=\\sqrt{2},~ b=\\frac{4}{3},~ c=0.5e$."
   ]
  },
  {
   "cell_type": "markdown",
   "metadata": {
    "colab_type": "text",
    "id": "qcBjCGE9z3k2"
   },
   "source": [
    "================================================================================================================="
   ]
  },
  {
   "cell_type": "markdown",
   "metadata": {},
   "source": [
    "\n",
    "### **Problem 7 (1 pt).** Define a function to find the maximum and minimum of a sequence with n numbers.\n",
    "\n",
    "Hint: x = np.random.randint(a,b,size=n) can randomly generate n numbers (saved in a row vector x ) and each number is between a and b.\n"
   ]
  },
  {
   "cell_type": "code",
   "execution_count": 18,
   "metadata": {},
   "outputs": [
    {
     "name": "stdout",
     "output_type": "stream",
     "text": [
      "the sequence is [-43, 4, 5, 6, 3, 87, 27, -9, 10, 8, 13, 16, -3]\n",
      "The maximum and minimun of the given list are: (87, -43)\n"
     ]
    }
   ],
   "source": [
    "def f_max(alist):\n",
    "    length=len(alist)\n",
    "    max_value = alist[0]\n",
    "    min_value = alist[0]\n",
    "    i=1\n",
    "    while i<length:\n",
    "        if alist[i]> max_value:\n",
    "            max_value = alist[i]\n",
    "        elif alist[i]<min_value:\n",
    "            min_value = alist[i]\n",
    "        i=i+1\n",
    "    return max_value, min_value\n",
    "\n",
    "#given an example to test it\n",
    "alist=[-43,4,5,6,3,87,27,-9,10,8,13,16,-3]\n",
    "print('the sequence is',alist)\n",
    "print('The maximum and minimun of the given list are:',f_max(alist))"
   ]
  },
  {
   "cell_type": "markdown",
   "metadata": {
    "colab_type": "text",
    "id": "qcBjCGE9z3k2"
   },
   "source": [
    "================================================================================================================="
   ]
  },
  {
   "cell_type": "markdown",
   "metadata": {},
   "source": [
    "### **Problem 8 (1 pt).**  Define a function to sort a sequence with n numbers in ascending order.\n"
   ]
  },
  {
   "cell_type": "code",
   "execution_count": 25,
   "metadata": {},
   "outputs": [
    {
     "name": "stdout",
     "output_type": "stream",
     "text": [
      "the sequence is [-43, 4, 5, 6, 3, 87, 27, -9, 10, 8, 13, 16, -3]\n",
      "The sorted version of the list is: [-43, -9, -3, 3, 4, 5, 6, 8, 10, 13, 16, 27, 87]\n"
     ]
    }
   ],
   "source": [
    "def f_sort(alist):\n",
    "    length=len(alist)\n",
    "    j=0\n",
    "    for j in range(0,length):\n",
    "        i=0\n",
    "        while i<length-1:\n",
    "            if alist[i+1]<alist[i]:\n",
    "                a=alist[i]\n",
    "                alist[i]=alist[i+1]\n",
    "                alist[i+1]=a\n",
    "            i=i+1\n",
    "        \n",
    "    return alist\n",
    "\n",
    "#given an example to test it\n",
    "alist=[-43,4,5,6,3,87,27,-9,10,8,13,16,-3]\n",
    "print('the sequence is',alist)\n",
    "print('The sorted version of the list is:',f_sort(alist))"
   ]
  },
  {
   "cell_type": "markdown",
   "metadata": {
    "colab_type": "text",
    "id": "qcBjCGE9z3k2"
   },
   "source": [
    "================================================================================================================="
   ]
  },
  {
   "cell_type": "markdown",
   "metadata": {},
   "source": [
    "### **Problem 9 (3 pts).**  Given a function \n",
    "### $$f(x,y)=(x-2)^2 + y^2 + 2(y-4)^2 + 2x^2 + 2xy + 4y -16x +1.$$\n",
    "### Please write a code to apply gradient descent method to find the minimum of $f(x,y)$ with initial value $x=y=0$.\n"
   ]
  },
  {
   "cell_type": "code",
   "execution_count": 10,
   "metadata": {},
   "outputs": [
    {
     "name": "stdout",
     "output_type": "stream",
     "text": [
      "The argmin obtained by presenting gradient descent from initial condition x=y=0 and numbers of steps are (tensor([[3.0000],\n",
      "        [1.0000]], grad_fn=<SubBackward0>), 22)\n",
      "The argmin obtained by presenting gradient descent from initial condition x=y=0 and numbers of steps are (tensor([[3.0000],\n",
      "        [1.0000]], grad_fn=<SubBackward0>), 269)\n",
      "The argmin obtained by presenting gradient descent from initial condition x=y=0 and numbers of steps are (tensor([[3.0000],\n",
      "        [1.0000]], grad_fn=<SubBackward0>), 26)\n",
      "The argmin obtained by presenting gradient descent from initial condition x=y=0 and numbers of steps are not reachable wl this tolerance and learning rate, since 500 iterations reaches. Please change the tolerance or learnin and do it again.\n",
      "\n",
      "\n",
      "by using gradient descent, we know the argmin for f is (3,1) and minimun is 1\n"
     ]
    }
   ],
   "source": [
    "import torch\n",
    "import numpy as np\n",
    "\n",
    "x = torch.tensor([[0.0],[0.0]],requires_grad=True)\n",
    "n=0\n",
    "def f_optim(tolerance,learning_rate,x,n):\n",
    "    if learning_rate<0 or learning_rate==0:\n",
    "        return('wrong learning rate')\n",
    "    z = (x[0]-2)**2+x[1]**2+2*(x[1]-4)**2+2*x[0]**2+2*x[0]*x[1]+4*x[1]-16*x[0]+1\n",
    "    grad = torch.autograd.grad(outputs=z, inputs=x)[0]\n",
    "    while torch.norm(grad)>tolerance:\n",
    "        x=x-learning_rate*grad\n",
    "        z = (x[0]-2)**2+x[1]**2+2*(x[1]-4)**2+2*x[0]**2+2*x[0]*x[1]+4*x[1]-16*x[0]+1\n",
    "        grad = torch.autograd.grad(outputs=z, inputs=x)[0]\n",
    "        if n==500:\n",
    "            return('not reachable wl this tolerance and learning rate, since 500 iterations reaches. Please change the tolerance or learnin and do it again.')\n",
    "        else:\n",
    "            n=n+1\n",
    "    return x,n\n",
    "\n",
    "print('The argmin obtained by presenting gradient descent from initial condition x=y=0 and numbers of steps are',f_optim(10**-4,0.1,x,n))\n",
    "print('The argmin obtained by presenting gradient descent from initial condition x=y=0 and numbers of steps are',f_optim(10**-4,0.01,x,n))\n",
    "print('The argmin obtained by presenting gradient descent from initial condition x=y=0 and numbers of steps are',f_optim(10**-5,0.1,x,n))\n",
    "print('The argmin obtained by presenting gradient descent from initial condition x=y=0 and numbers of steps are',f_optim(10**-5,0.01,x,n))\n",
    "\n",
    "print('\\n')\n",
    "x=[3,1]\n",
    "print('by using gradient descent, we know the argmin for f is (3,1) and minimun is',(x[0]-2)**2+x[1]**2+2*(x[1]-4)**2+2*x[0]**2+2*x[0]*x[1]+4*x[1]-16*x[0]+1)"
   ]
  },
  {
   "cell_type": "code",
   "execution_count": null,
   "metadata": {},
   "outputs": [],
   "source": []
  }
 ],
 "metadata": {
  "colab": {
   "collapsed_sections": [
    "A8btbBuFz3j_",
    "8tnDF8N5z3j_",
    "6NGxntKLz3kO",
    "t8Op_NP5z3kf",
    "eY74kXCSz3kg",
    "PsX9sU1Nz3kh",
    "tt6oay6Rz3kk",
    "kTHHlHSbz3kn",
    "O-OyyHliz3ko",
    "cL_XkTgmz3k1",
    "QFdILTiHz3k1",
    "XmhEkm0nz3k2",
    "bn4Pbjwgz3k4",
    "MJn6VYpQz3k8",
    "JOcri38sz3k8"
   ],
   "name": "Lecture1.ipynb",
   "provenance": []
  },
  "kernelspec": {
   "display_name": "Python 3",
   "language": "python",
   "name": "python3"
  },
  "language_info": {
   "codemirror_mode": {
    "name": "ipython",
    "version": 3
   },
   "file_extension": ".py",
   "mimetype": "text/x-python",
   "name": "python",
   "nbconvert_exporter": "python",
   "pygments_lexer": "ipython3",
   "version": "3.7.6"
  }
 },
 "nbformat": 4,
 "nbformat_minor": 4
}
